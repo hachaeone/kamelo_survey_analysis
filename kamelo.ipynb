{
 "cells": [
  {
   "cell_type": "code",
   "execution_count": 131,
   "id": "b5c844e5",
   "metadata": {},
   "outputs": [],
   "source": [
    "import pandas as pd\n",
    "import numpy as np"
   ]
  },
  {
   "cell_type": "code",
   "execution_count": 132,
   "id": "4677994c",
   "metadata": {},
   "outputs": [],
   "source": [
    "kamelo=pd.read_csv('KAMELO 3.0 설문조사.csv')\n",
    "kamelo=kamelo.drop('타임스탬프',axis=1)"
   ]
  },
  {
   "cell_type": "code",
   "execution_count": 133,
   "id": "40b17b10",
   "metadata": {},
   "outputs": [
    {
     "data": {
      "text/plain": [
       "Index(['1. 연령대가 어떻게 되시나요?', '2. 성별은 어떻게 되시나요?', '3. 대학교 재학중이신가요?',\n",
       "       '4. 주로 사용하는 어플리케이션 종류는 무엇인가요?(복수선택 가능)',\n",
       "       '5. 선택한 어플리케이션의 사용시간은 어느 정도인가요?', '6. 주로 시청하는 콘텐츠의 종류는 무엇인가요?(복수선택 가능)',\n",
       "       '7. 선택한 콘텐츠의 종류 중 최근에 가장 인상깊게 시청한 영상을 소개해주세요.',\n",
       "       '8. 최근 3개월 동안 SNS에 게시물을 몇 회 이상 업로드하셨나요?',\n",
       "       '9. 자신이 등장하는 영상이나 사진 찍는 것을 좋아하시나요?', '10. 이유는 무엇인가요?',\n",
       "       '11. 자신이 등장하는 영상이나 사진을 누구에게 공유하시나요?', '12. 공유 경로는 어떻게 하시나요?',\n",
       "       '13. 내 모습을 바꿀 수 있다면 어떻게 바꾸고 싶은가요?', '14. 내 모습을 바꿔서 무엇을 해보고 싶은가요?',\n",
       "       '15. '음악'에서 가장 흥미로운 주제는 무엇인가요?(복수선택 가능)',\n",
       "       '16. '일상'에서 가장 흥미로운 주제는 무엇인가요?(복수선택 가능)',\n",
       "       '17. '코미디'에서 가장 흥미로운 주제는 무엇인가요?(복수선택 가능)',\n",
       "       '18. '댄스'에서 가장 흥미로운 주제는 무엇인가요?(복수선택 가능)',\n",
       "       '19. '영화/드라마'에서 가장 흥미로운 주제는 무엇인가요?(복수선택 가능)',\n",
       "       '20. '엔터테인먼트/연예인'에서 가장 흥미로운 주제는 무엇인가요?(복수 선택 가능)',\n",
       "       '21. '애니메이션'에서 가장 흥미로운 주제는 무엇인가요?(복수선택 가능)'],\n",
       "      dtype='object')"
      ]
     },
     "execution_count": 133,
     "metadata": {},
     "output_type": "execute_result"
    }
   ],
   "source": [
    "kamelo.columns"
   ]
  },
  {
   "cell_type": "code",
   "execution_count": 134,
   "id": "9dd26663",
   "metadata": {},
   "outputs": [],
   "source": [
    "kamelo_df=kamelo.iloc[:,0:13]"
   ]
  },
  {
   "cell_type": "code",
   "execution_count": 135,
   "id": "cbfab471",
   "metadata": {},
   "outputs": [],
   "source": [
    "kamelo_df=kamelo_df.drop(['7. 선택한 콘텐츠의 종류 중 최근에 가장 인상깊게 시청한 영상을 소개해주세요.',\n",
    "'10. 이유는 무엇인가요?'], axis=1)"
   ]
  },
  {
   "cell_type": "code",
   "execution_count": 136,
   "id": "13d4bc44",
   "metadata": {},
   "outputs": [
    {
     "data": {
      "text/html": [
       "<div>\n",
       "<style scoped>\n",
       "    .dataframe tbody tr th:only-of-type {\n",
       "        vertical-align: middle;\n",
       "    }\n",
       "\n",
       "    .dataframe tbody tr th {\n",
       "        vertical-align: top;\n",
       "    }\n",
       "\n",
       "    .dataframe thead th {\n",
       "        text-align: right;\n",
       "    }\n",
       "</style>\n",
       "<table border=\"1\" class=\"dataframe\">\n",
       "  <thead>\n",
       "    <tr style=\"text-align: right;\">\n",
       "      <th></th>\n",
       "      <th>1. 연령대가 어떻게 되시나요?</th>\n",
       "      <th>2. 성별은 어떻게 되시나요?</th>\n",
       "      <th>3. 대학교 재학중이신가요?</th>\n",
       "      <th>4. 주로 사용하는 어플리케이션 종류는 무엇인가요?(복수선택 가능)</th>\n",
       "      <th>5. 선택한 어플리케이션의 사용시간은 어느 정도인가요?</th>\n",
       "      <th>6. 주로 시청하는 콘텐츠의 종류는 무엇인가요?(복수선택 가능)</th>\n",
       "      <th>8. 최근 3개월 동안 SNS에 게시물을 몇 회 이상 업로드하셨나요?</th>\n",
       "      <th>9. 자신이 등장하는 영상이나 사진 찍는 것을 좋아하시나요?</th>\n",
       "      <th>11. 자신이 등장하는 영상이나 사진을 누구에게 공유하시나요?</th>\n",
       "      <th>12. 공유 경로는 어떻게 하시나요?</th>\n",
       "      <th>13. 내 모습을 바꿀 수 있다면 어떻게 바꾸고 싶은가요?</th>\n",
       "    </tr>\n",
       "  </thead>\n",
       "  <tbody>\n",
       "    <tr>\n",
       "      <th>count</th>\n",
       "      <td>113</td>\n",
       "      <td>113</td>\n",
       "      <td>113</td>\n",
       "      <td>113</td>\n",
       "      <td>113</td>\n",
       "      <td>113</td>\n",
       "      <td>113</td>\n",
       "      <td>113</td>\n",
       "      <td>113</td>\n",
       "      <td>113</td>\n",
       "      <td>113</td>\n",
       "    </tr>\n",
       "    <tr>\n",
       "      <th>unique</th>\n",
       "      <td>2</td>\n",
       "      <td>2</td>\n",
       "      <td>2</td>\n",
       "      <td>34</td>\n",
       "      <td>5</td>\n",
       "      <td>69</td>\n",
       "      <td>5</td>\n",
       "      <td>5</td>\n",
       "      <td>5</td>\n",
       "      <td>4</td>\n",
       "      <td>107</td>\n",
       "    </tr>\n",
       "    <tr>\n",
       "      <th>top</th>\n",
       "      <td>20대</td>\n",
       "      <td>남자</td>\n",
       "      <td>O</td>\n",
       "      <td>SNS, 영상</td>\n",
       "      <td>일일 1~3시간</td>\n",
       "      <td>음악, 일상, 예능</td>\n",
       "      <td>월 1회 이상</td>\n",
       "      <td>보통이다</td>\n",
       "      <td>친한 친구에게만</td>\n",
       "      <td>인스타그램</td>\n",
       "      <td>잘생기게</td>\n",
       "    </tr>\n",
       "    <tr>\n",
       "      <th>freq</th>\n",
       "      <td>95</td>\n",
       "      <td>81</td>\n",
       "      <td>71</td>\n",
       "      <td>17</td>\n",
       "      <td>51</td>\n",
       "      <td>4</td>\n",
       "      <td>47</td>\n",
       "      <td>34</td>\n",
       "      <td>48</td>\n",
       "      <td>57</td>\n",
       "      <td>2</td>\n",
       "    </tr>\n",
       "  </tbody>\n",
       "</table>\n",
       "</div>"
      ],
      "text/plain": [
       "       1. 연령대가 어떻게 되시나요? 2. 성별은 어떻게 되시나요? 3. 대학교 재학중이신가요?  \\\n",
       "count                113              113             113   \n",
       "unique                 2                2               2   \n",
       "top                  20대               남자               O   \n",
       "freq                  95               81              71   \n",
       "\n",
       "       4. 주로 사용하는 어플리케이션 종류는 무엇인가요?(복수선택 가능) 5. 선택한 어플리케이션의 사용시간은 어느 정도인가요?  \\\n",
       "count                                    113                            113   \n",
       "unique                                    34                              5   \n",
       "top                                  SNS, 영상                       일일 1~3시간   \n",
       "freq                                      17                             51   \n",
       "\n",
       "       6. 주로 시청하는 콘텐츠의 종류는 무엇인가요?(복수선택 가능)  \\\n",
       "count                                  113   \n",
       "unique                                  69   \n",
       "top                             음악, 일상, 예능   \n",
       "freq                                     4   \n",
       "\n",
       "       8. 최근 3개월 동안 SNS에 게시물을 몇 회 이상 업로드하셨나요?  \\\n",
       "count                                     113   \n",
       "unique                                      5   \n",
       "top                                   월 1회 이상   \n",
       "freq                                       47   \n",
       "\n",
       "       9. 자신이 등장하는 영상이나 사진 찍는 것을 좋아하시나요? 11. 자신이 등장하는 영상이나 사진을 누구에게 공유하시나요?  \\\n",
       "count                                113                                113   \n",
       "unique                                 5                                  5   \n",
       "top                                 보통이다                           친한 친구에게만   \n",
       "freq                                  34                                 48   \n",
       "\n",
       "       12. 공유 경로는 어떻게 하시나요? 13. 내 모습을 바꿀 수 있다면 어떻게 바꾸고 싶은가요?  \n",
       "count                   113                              113  \n",
       "unique                    4                              107  \n",
       "top                   인스타그램                             잘생기게  \n",
       "freq                     57                                2  "
      ]
     },
     "execution_count": 136,
     "metadata": {},
     "output_type": "execute_result"
    }
   ],
   "source": [
    "kamelo_df.describe()\n",
    "#인사이트 도출"
   ]
  },
  {
   "cell_type": "markdown",
   "id": "4182d98a",
   "metadata": {},
   "source": [
    "공통"
   ]
  },
  {
   "cell_type": "code",
   "execution_count": 137,
   "id": "b8249c42",
   "metadata": {},
   "outputs": [],
   "source": [
    "app_freq=kamelo_df['4. 주로 사용하는 어플리케이션 종류는 무엇인가요?(복수선택 가능)'].copy()"
   ]
  },
  {
   "cell_type": "code",
   "execution_count": 138,
   "id": "c5ca2818",
   "metadata": {},
   "outputs": [],
   "source": [
    "for i in range(len(app_freq)):\n",
    "    app_freq[i]=app_freq[i].split(',')"
   ]
  },
  {
   "cell_type": "code",
   "execution_count": 139,
   "id": "213a108f",
   "metadata": {},
   "outputs": [],
   "source": [
    "app_freq_num=[]\n",
    "\n",
    "for i in range(len(app_freq)):\n",
    "    app_freq_num.append(len(app_freq[i]))"
   ]
  },
  {
   "cell_type": "code",
   "execution_count": 140,
   "id": "dcc81040",
   "metadata": {},
   "outputs": [],
   "source": [
    "app_freq_df=pd.DataFrame(app_freq,app_freq_num).reset_index()"
   ]
  },
  {
   "cell_type": "code",
   "execution_count": 141,
   "id": "ce324717",
   "metadata": {},
   "outputs": [],
   "source": [
    "app_freq_df.columns=['빈도','어플리케이션 종류']"
   ]
  },
  {
   "cell_type": "code",
   "execution_count": 142,
   "id": "b99c6ce6",
   "metadata": {},
   "outputs": [
    {
     "data": {
      "text/plain": [
       "어플리케이션 종류\n",
       "[SNS,  영상]          38\n",
       "[SNS,  OTT,  영상]    30\n",
       "[OTT,  영상]          25\n",
       "[영상]                18\n",
       "[SNS,  영상,  금융]      2\n",
       "Name: count, dtype: int64"
      ]
     },
     "execution_count": 142,
     "metadata": {},
     "output_type": "execute_result"
    }
   ],
   "source": [
    "app_freq_df['어플리케이션 종류'].value_counts()\n",
    "#'영상'이 빠지지 않고 들어감 → 공유 기능과 연결시키기\n",
    "# 'sns', '영상' 비중 높음\n",
    "# 보통 하나만 하지 않는다(?)"
   ]
  },
  {
   "cell_type": "markdown",
   "id": "9e8e5f80",
   "metadata": {},
   "source": [
    "제작자"
   ]
  },
  {
   "cell_type": "code",
   "execution_count": 148,
   "id": "29c37a94",
   "metadata": {},
   "outputs": [],
   "source": [
    "upload_df=kamelo_df.iloc[:,[0,1,2,3,4,6,7,8,9,10]]"
   ]
  },
  {
   "cell_type": "code",
   "execution_count": 153,
   "id": "bc1fe468",
   "metadata": {},
   "outputs": [
    {
     "name": "stderr",
     "output_type": "stream",
     "text": [
      "C:\\Users\\user\\AppData\\Local\\Temp\\ipykernel_176720\\2837498200.py:1: SettingWithCopyWarning: \n",
      "A value is trying to be set on a copy of a slice from a DataFrame.\n",
      "Try using .loc[row_indexer,col_indexer] = value instead\n",
      "\n",
      "See the caveats in the documentation: https://pandas.pydata.org/pandas-docs/stable/user_guide/indexing.html#returning-a-view-versus-a-copy\n",
      "  upload_df['8. 최근 3개월 동안 SNS에 게시물을 몇 회 이상 업로드하셨나요?']=pd.Categorical(upload_df['8. 최근 3개월 동안 SNS에 게시물을 몇 회 이상 업로드하셨나요?'],\n",
      "C:\\Users\\user\\AppData\\Local\\Temp\\ipykernel_176720\\2837498200.py:4: SettingWithCopyWarning: \n",
      "A value is trying to be set on a copy of a slice from a DataFrame\n",
      "\n",
      "See the caveats in the documentation: https://pandas.pydata.org/pandas-docs/stable/user_guide/indexing.html#returning-a-view-versus-a-copy\n",
      "  upload_df.sort_values(by='8. 최근 3개월 동안 SNS에 게시물을 몇 회 이상 업로드하셨나요?',inplace=True)\n"
     ]
    }
   ],
   "source": [
    "upload_df['8. 최근 3개월 동안 SNS에 게시물을 몇 회 이상 업로드하셨나요?']=pd.Categorical(upload_df['8. 최근 3개월 동안 SNS에 게시물을 몇 회 이상 업로드하셨나요?'],\n",
    "categories=['매일','주 3회 이상','주 1회 이상','월 1회 이상','없음'],ordered=True)\n",
    "\n",
    "upload_df.sort_values(by='8. 최근 3개월 동안 SNS에 게시물을 몇 회 이상 업로드하셨나요?',inplace=True)"
   ]
  },
  {
   "cell_type": "code",
   "execution_count": 175,
   "id": "a0f744b9",
   "metadata": {},
   "outputs": [],
   "source": [
    "heavy_user=upload_df.loc[(upload_df['8. 최근 3개월 동안 SNS에 게시물을 몇 회 이상 업로드하셨나요?'] =='매일') ^ \n",
    "(upload_df['8. 최근 3개월 동안 SNS에 게시물을 몇 회 이상 업로드하셨나요?'] =='주 3회 이상')^\n",
    "(upload_df['8. 최근 3개월 동안 SNS에 게시물을 몇 회 이상 업로드하셨나요?'] =='주 1회 이상')]\n",
    "\n",
    "medium_user=upload_df.loc[upload_df['8. 최근 3개월 동안 SNS에 게시물을 몇 회 이상 업로드하셨나요?'] =='월 1회 이상']\n",
    "\n",
    "light_user=upload_df.loc[upload_df['8. 최근 3개월 동안 SNS에 게시물을 몇 회 이상 업로드하셨나요?'] =='없음']"
   ]
  },
  {
   "cell_type": "code",
   "execution_count": null,
   "id": "1116e1cb",
   "metadata": {},
   "outputs": [
    {
     "data": {
      "text/html": [
       "<div>\n",
       "<style scoped>\n",
       "    .dataframe tbody tr th:only-of-type {\n",
       "        vertical-align: middle;\n",
       "    }\n",
       "\n",
       "    .dataframe tbody tr th {\n",
       "        vertical-align: top;\n",
       "    }\n",
       "\n",
       "    .dataframe thead th {\n",
       "        text-align: right;\n",
       "    }\n",
       "</style>\n",
       "<table border=\"1\" class=\"dataframe\">\n",
       "  <thead>\n",
       "    <tr style=\"text-align: right;\">\n",
       "      <th></th>\n",
       "      <th>1. 연령대가 어떻게 되시나요?</th>\n",
       "      <th>2. 성별은 어떻게 되시나요?</th>\n",
       "      <th>3. 대학교 재학중이신가요?</th>\n",
       "      <th>4. 주로 사용하는 어플리케이션 종류는 무엇인가요?(복수선택 가능)</th>\n",
       "      <th>5. 선택한 어플리케이션의 사용시간은 어느 정도인가요?</th>\n",
       "      <th>8. 최근 3개월 동안 SNS에 게시물을 몇 회 이상 업로드하셨나요?</th>\n",
       "      <th>9. 자신이 등장하는 영상이나 사진 찍는 것을 좋아하시나요?</th>\n",
       "      <th>11. 자신이 등장하는 영상이나 사진을 누구에게 공유하시나요?</th>\n",
       "      <th>12. 공유 경로는 어떻게 하시나요?</th>\n",
       "      <th>13. 내 모습을 바꿀 수 있다면 어떻게 바꾸고 싶은가요?</th>\n",
       "    </tr>\n",
       "  </thead>\n",
       "  <tbody>\n",
       "    <tr>\n",
       "      <th>count</th>\n",
       "      <td>24</td>\n",
       "      <td>24</td>\n",
       "      <td>24</td>\n",
       "      <td>24</td>\n",
       "      <td>24</td>\n",
       "      <td>24</td>\n",
       "      <td>24</td>\n",
       "      <td>24</td>\n",
       "      <td>24</td>\n",
       "      <td>24</td>\n",
       "    </tr>\n",
       "    <tr>\n",
       "      <th>unique</th>\n",
       "      <td>2</td>\n",
       "      <td>2</td>\n",
       "      <td>2</td>\n",
       "      <td>12</td>\n",
       "      <td>4</td>\n",
       "      <td>3</td>\n",
       "      <td>5</td>\n",
       "      <td>4</td>\n",
       "      <td>3</td>\n",
       "      <td>24</td>\n",
       "    </tr>\n",
       "    <tr>\n",
       "      <th>top</th>\n",
       "      <td>20대</td>\n",
       "      <td>남자</td>\n",
       "      <td>O</td>\n",
       "      <td>SNS, OTT, 영상</td>\n",
       "      <td>일일 3~6시간</td>\n",
       "      <td>주 1회 이상</td>\n",
       "      <td>그렇다</td>\n",
       "      <td>친한 친구에게만</td>\n",
       "      <td>인스타그램</td>\n",
       "      <td>발레아쥬 염색!</td>\n",
       "    </tr>\n",
       "    <tr>\n",
       "      <th>freq</th>\n",
       "      <td>20</td>\n",
       "      <td>13</td>\n",
       "      <td>16</td>\n",
       "      <td>5</td>\n",
       "      <td>11</td>\n",
       "      <td>14</td>\n",
       "      <td>8</td>\n",
       "      <td>10</td>\n",
       "      <td>15</td>\n",
       "      <td>1</td>\n",
       "    </tr>\n",
       "  </tbody>\n",
       "</table>\n",
       "</div>"
      ],
      "text/plain": [
       "       1. 연령대가 어떻게 되시나요? 2. 성별은 어떻게 되시나요? 3. 대학교 재학중이신가요?  \\\n",
       "count                 24               24              24   \n",
       "unique                 2                2               2   \n",
       "top                  20대               남자               O   \n",
       "freq                  20               13              16   \n",
       "\n",
       "       4. 주로 사용하는 어플리케이션 종류는 무엇인가요?(복수선택 가능) 5. 선택한 어플리케이션의 사용시간은 어느 정도인가요?  \\\n",
       "count                                     24                             24   \n",
       "unique                                    12                              4   \n",
       "top                             SNS, OTT, 영상                       일일 3~6시간   \n",
       "freq                                       5                             11   \n",
       "\n",
       "       8. 최근 3개월 동안 SNS에 게시물을 몇 회 이상 업로드하셨나요?  \\\n",
       "count                                      24   \n",
       "unique                                      3   \n",
       "top                                   주 1회 이상   \n",
       "freq                                       14   \n",
       "\n",
       "       9. 자신이 등장하는 영상이나 사진 찍는 것을 좋아하시나요? 11. 자신이 등장하는 영상이나 사진을 누구에게 공유하시나요?  \\\n",
       "count                                 24                                 24   \n",
       "unique                                 5                                  4   \n",
       "top                                  그렇다                           친한 친구에게만   \n",
       "freq                                   8                                 10   \n",
       "\n",
       "       12. 공유 경로는 어떻게 하시나요? 13. 내 모습을 바꿀 수 있다면 어떻게 바꾸고 싶은가요?  \n",
       "count                    24                               24  \n",
       "unique                    3                               24  \n",
       "top                   인스타그램                         발레아쥬 염색!  \n",
       "freq                     15                                1  "
      ]
     },
     "execution_count": 178,
     "metadata": {},
     "output_type": "execute_result"
    }
   ],
   "source": [
    "heavy_user.describe()\n",
    "\n",
    "#여자: 남자 = 11: 13 → 표본 성별이 남성에 치우쳐 있음에도 불구하고 성비 비슷하게 나타남 → 여성의 sns 이용률 높음\n",
    "#재학생의 비율 압도적으로 높음(3분의 2) \n",
    "#주로 사용하는 어플 별도 분석 필요\n",
    "#약 절반이 일일 3~6시간 이용 시간 보임  → 업로드 자주 할수록 이용 시간도 증가\n",
    "#촬영 대한 감정 별도 분석 필요\n",
    "#공유 범위 세밀 분석 필요하나 약 절반 가까운 인원이 친한 친구에게(만) 공유\n",
    "#공유 경로 분석 필요하나 인스타그램 압도적"
   ]
  },
  {
   "cell_type": "code",
   "execution_count": null,
   "id": "0c093508",
   "metadata": {},
   "outputs": [
    {
     "data": {
      "text/plain": [
       "4. 주로 사용하는 어플리케이션 종류는 무엇인가요?(복수선택 가능)\n",
       "SNS, OTT, 영상                    5\n",
       "SNS                             3\n",
       "SNS, OTT, 영상, 금융, 쇼핑            3\n",
       "SNS, 영상                         3\n",
       "SNS, 영상, 금융                     2\n",
       "영상                              2\n",
       "SNS, 영상, 금융, 교육                 1\n",
       "SNS, OTT, 영상, 금융                1\n",
       "게임, SNS, OTT, 영상, 금융, 쇼핑        1\n",
       "SNS, 영상, 금융, 티켓팅                1\n",
       "쇼핑                              1\n",
       "게임, SNS, OTT, 영상, 금융, 쇼핑, 교육    1\n",
       "Name: count, dtype: int64"
      ]
     },
     "execution_count": 185,
     "metadata": {},
     "output_type": "execute_result"
    }
   ],
   "source": [
    "heavy_user['4. 주로 사용하는 어플리케이션 종류는 무엇인가요?(복수선택 가능)'].value_counts()\n",
    "#4분의 3이 여러 어플리케이션 주로 사용 → 하나만 이용하지 X\n",
    "\n",
    "#사용 어플리케이션별 시각화 추가"
   ]
  },
  {
   "cell_type": "markdown",
   "id": "ecc8fab0",
   "metadata": {},
   "source": [
    "SNS 13\n",
    "OTT 6\n",
    "영상 15\n",
    "금융 10\n",
    "교육 2\n",
    "쇼핑 6\n",
    "티켓팅 1\n",
    "게임 2"
   ]
  },
  {
   "cell_type": "code",
   "execution_count": 226,
   "id": "72dfd1fc",
   "metadata": {},
   "outputs": [
    {
     "data": {
      "text/plain": [
       "5. 선택한 어플리케이션의 사용시간은 어느 정도인가요?\n",
       "일일 3~6시간      11\n",
       "일일 1~3시간      10\n",
       "일일 10시간 초과     2\n",
       "일일 6~10시간      1\n",
       "Name: count, dtype: int64"
      ]
     },
     "execution_count": 226,
     "metadata": {},
     "output_type": "execute_result"
    }
   ],
   "source": [
    "heavy_user['5. 선택한 어플리케이션의 사용시간은 어느 정도인가요?'].value_counts()"
   ]
  },
  {
   "cell_type": "code",
   "execution_count": 228,
   "id": "857ba88d",
   "metadata": {},
   "outputs": [
    {
     "data": {
      "text/plain": [
       "8. 최근 3개월 동안 SNS에 게시물을 몇 회 이상 업로드하셨나요?\n",
       "주 1회 이상    14\n",
       "주 3회 이상     9\n",
       "매일          1\n",
       "월 1회 이상     0\n",
       "없음          0\n",
       "Name: count, dtype: int64"
      ]
     },
     "execution_count": 228,
     "metadata": {},
     "output_type": "execute_result"
    }
   ],
   "source": [
    "heavy_user['8. 최근 3개월 동안 SNS에 게시물을 몇 회 이상 업로드하셨나요?'].value_counts()"
   ]
  },
  {
   "cell_type": "code",
   "execution_count": 229,
   "id": "3ee78771",
   "metadata": {},
   "outputs": [
    {
     "data": {
      "text/plain": [
       "9. 자신이 등장하는 영상이나 사진 찍는 것을 좋아하시나요?\n",
       "그렇다          8\n",
       "매우 그렇다       6\n",
       "보통이다         4\n",
       "그렇지 않다       4\n",
       "매우 그렇지 않다    2\n",
       "Name: count, dtype: int64"
      ]
     },
     "execution_count": 229,
     "metadata": {},
     "output_type": "execute_result"
    }
   ],
   "source": [
    "heavy_user['9. 자신이 등장하는 영상이나 사진 찍는 것을 좋아하시나요?'].value_counts()"
   ]
  },
  {
   "cell_type": "code",
   "execution_count": 230,
   "id": "166f5bff",
   "metadata": {},
   "outputs": [
    {
     "data": {
      "text/plain": [
       "11. 자신이 등장하는 영상이나 사진을 누구에게 공유하시나요?\n",
       "친한 친구에게만    10\n",
       "지인에게만       10\n",
       "모두에게         3\n",
       "가족에게만        1\n",
       "Name: count, dtype: int64"
      ]
     },
     "execution_count": 230,
     "metadata": {},
     "output_type": "execute_result"
    }
   ],
   "source": [
    "heavy_user['11. 자신이 등장하는 영상이나 사진을 누구에게 공유하시나요?'].value_counts()"
   ]
  },
  {
   "cell_type": "code",
   "execution_count": 231,
   "id": "40c98831",
   "metadata": {},
   "outputs": [
    {
     "data": {
      "text/plain": [
       "12. 공유 경로는 어떻게 하시나요?\n",
       "인스타그램    15\n",
       "카카오톡      7\n",
       "블로그       2\n",
       "Name: count, dtype: int64"
      ]
     },
     "execution_count": 231,
     "metadata": {},
     "output_type": "execute_result"
    }
   ],
   "source": [
    "heavy_user['12. 공유 경로는 어떻게 하시나요?'].value_counts()"
   ]
  },
  {
   "cell_type": "code",
   "execution_count": 179,
   "id": "9e070098",
   "metadata": {},
   "outputs": [
    {
     "data": {
      "text/html": [
       "<div>\n",
       "<style scoped>\n",
       "    .dataframe tbody tr th:only-of-type {\n",
       "        vertical-align: middle;\n",
       "    }\n",
       "\n",
       "    .dataframe tbody tr th {\n",
       "        vertical-align: top;\n",
       "    }\n",
       "\n",
       "    .dataframe thead th {\n",
       "        text-align: right;\n",
       "    }\n",
       "</style>\n",
       "<table border=\"1\" class=\"dataframe\">\n",
       "  <thead>\n",
       "    <tr style=\"text-align: right;\">\n",
       "      <th></th>\n",
       "      <th>1. 연령대가 어떻게 되시나요?</th>\n",
       "      <th>2. 성별은 어떻게 되시나요?</th>\n",
       "      <th>3. 대학교 재학중이신가요?</th>\n",
       "      <th>4. 주로 사용하는 어플리케이션 종류는 무엇인가요?(복수선택 가능)</th>\n",
       "      <th>5. 선택한 어플리케이션의 사용시간은 어느 정도인가요?</th>\n",
       "      <th>8. 최근 3개월 동안 SNS에 게시물을 몇 회 이상 업로드하셨나요?</th>\n",
       "      <th>9. 자신이 등장하는 영상이나 사진 찍는 것을 좋아하시나요?</th>\n",
       "      <th>11. 자신이 등장하는 영상이나 사진을 누구에게 공유하시나요?</th>\n",
       "      <th>12. 공유 경로는 어떻게 하시나요?</th>\n",
       "      <th>13. 내 모습을 바꿀 수 있다면 어떻게 바꾸고 싶은가요?</th>\n",
       "    </tr>\n",
       "  </thead>\n",
       "  <tbody>\n",
       "    <tr>\n",
       "      <th>count</th>\n",
       "      <td>47</td>\n",
       "      <td>47</td>\n",
       "      <td>47</td>\n",
       "      <td>47</td>\n",
       "      <td>47</td>\n",
       "      <td>47</td>\n",
       "      <td>47</td>\n",
       "      <td>47</td>\n",
       "      <td>47</td>\n",
       "      <td>47</td>\n",
       "    </tr>\n",
       "    <tr>\n",
       "      <th>unique</th>\n",
       "      <td>2</td>\n",
       "      <td>2</td>\n",
       "      <td>2</td>\n",
       "      <td>22</td>\n",
       "      <td>5</td>\n",
       "      <td>1</td>\n",
       "      <td>5</td>\n",
       "      <td>5</td>\n",
       "      <td>4</td>\n",
       "      <td>46</td>\n",
       "    </tr>\n",
       "    <tr>\n",
       "      <th>top</th>\n",
       "      <td>20대</td>\n",
       "      <td>남자</td>\n",
       "      <td>O</td>\n",
       "      <td>SNS, 영상</td>\n",
       "      <td>일일 1~3시간</td>\n",
       "      <td>월 1회 이상</td>\n",
       "      <td>보통이다</td>\n",
       "      <td>지인에게만</td>\n",
       "      <td>인스타그램</td>\n",
       "      <td>마른체형</td>\n",
       "    </tr>\n",
       "    <tr>\n",
       "      <th>freq</th>\n",
       "      <td>39</td>\n",
       "      <td>36</td>\n",
       "      <td>30</td>\n",
       "      <td>10</td>\n",
       "      <td>19</td>\n",
       "      <td>47</td>\n",
       "      <td>15</td>\n",
       "      <td>19</td>\n",
       "      <td>32</td>\n",
       "      <td>2</td>\n",
       "    </tr>\n",
       "  </tbody>\n",
       "</table>\n",
       "</div>"
      ],
      "text/plain": [
       "       1. 연령대가 어떻게 되시나요? 2. 성별은 어떻게 되시나요? 3. 대학교 재학중이신가요?  \\\n",
       "count                 47               47              47   \n",
       "unique                 2                2               2   \n",
       "top                  20대               남자               O   \n",
       "freq                  39               36              30   \n",
       "\n",
       "       4. 주로 사용하는 어플리케이션 종류는 무엇인가요?(복수선택 가능) 5. 선택한 어플리케이션의 사용시간은 어느 정도인가요?  \\\n",
       "count                                     47                             47   \n",
       "unique                                    22                              5   \n",
       "top                                  SNS, 영상                       일일 1~3시간   \n",
       "freq                                      10                             19   \n",
       "\n",
       "       8. 최근 3개월 동안 SNS에 게시물을 몇 회 이상 업로드하셨나요?  \\\n",
       "count                                      47   \n",
       "unique                                      1   \n",
       "top                                   월 1회 이상   \n",
       "freq                                       47   \n",
       "\n",
       "       9. 자신이 등장하는 영상이나 사진 찍는 것을 좋아하시나요? 11. 자신이 등장하는 영상이나 사진을 누구에게 공유하시나요?  \\\n",
       "count                                 47                                 47   \n",
       "unique                                 5                                  5   \n",
       "top                                 보통이다                              지인에게만   \n",
       "freq                                  15                                 19   \n",
       "\n",
       "       12. 공유 경로는 어떻게 하시나요? 13. 내 모습을 바꿀 수 있다면 어떻게 바꾸고 싶은가요?  \n",
       "count                    47                               47  \n",
       "unique                    4                               46  \n",
       "top                   인스타그램                             마른체형  \n",
       "freq                     32                                2  "
      ]
     },
     "execution_count": 179,
     "metadata": {},
     "output_type": "execute_result"
    }
   ],
   "source": [
    "medium_user.describe()"
   ]
  },
  {
   "cell_type": "code",
   "execution_count": 232,
   "id": "e2e00aeb",
   "metadata": {},
   "outputs": [
    {
     "data": {
      "text/plain": [
       "4. 주로 사용하는 어플리케이션 종류는 무엇인가요?(복수선택 가능)\n",
       "SNS, 영상                         10\n",
       "SNS, OTT, 영상                     5\n",
       "영상                               4\n",
       "SNS                              4\n",
       "SNS, OTT, 영상, 금융                 3\n",
       "SNS, 영상, 금융, 쇼핑                  2\n",
       "SNS, OTT, 영상, 쇼핑                 2\n",
       "SNS, 영상, 금융                      2\n",
       "SNS, OTT, 영상, 금융, 쇼핑             2\n",
       "금융, 쇼핑                           1\n",
       "게임, 영상, 쇼핑                       1\n",
       "구글/사파리 등 인터넷 브라우저                1\n",
       "SNS, OTT                         1\n",
       "게임, SNS, 영상, 금융, 쇼핑, 교육          1\n",
       "게임, SNS, 영상, 금융                  1\n",
       "SNS, 금융                          1\n",
       "게임, SNS                          1\n",
       "영상, 금융, 쇼핑                       1\n",
       "OTT                              1\n",
       "게임, SNS, OTT, 영상, 금융, 쇼핑         1\n",
       "게임, SNS, OTT, 영상, 금융, 쇼핑, 교육     1\n",
       "게임, SNS, OTT                     1\n",
       "Name: count, dtype: int64"
      ]
     },
     "execution_count": 232,
     "metadata": {},
     "output_type": "execute_result"
    }
   ],
   "source": [
    "medium_user['4. 주로 사용하는 어플리케이션 종류는 무엇인가요?(복수선택 가능)'].value_counts()"
   ]
  },
  {
   "cell_type": "code",
   "execution_count": 238,
   "id": "8b9b6cdc",
   "metadata": {},
   "outputs": [
    {
     "name": "stdout",
     "output_type": "stream",
     "text": [
      "5. 선택한 어플리케이션의 사용시간은 어느 정도인가요?\n",
      "일일 1~3시간      19\n",
      "일일 3~6시간      16\n",
      "일일 6~10시간      6\n",
      "일일 1시간 이내      5\n",
      "일일 10시간 초과     1\n",
      "Name: count, dtype: int64\n",
      "9. 자신이 등장하는 영상이나 사진 찍는 것을 좋아하시나요?\n",
      "보통이다         15\n",
      "그렇다          14\n",
      "그렇지 않다       12\n",
      "매우 그렇다        4\n",
      "매우 그렇지 않다     2\n",
      "Name: count, dtype: int64\n",
      "11. 자신이 등장하는 영상이나 사진을 누구에게 공유하시나요?\n",
      "지인에게만       19\n",
      "친한 친구에게만    16\n",
      "모두에게         8\n",
      "나에게만         3\n",
      "가족에게만        1\n",
      "Name: count, dtype: int64\n",
      "12. 공유 경로는 어떻게 하시나요?\n",
      "인스타그램        32\n",
      "카카오톡         13\n",
      "블로그           1\n",
      "유튜브 개인 채널     1\n",
      "Name: count, dtype: int64\n"
     ]
    }
   ],
   "source": [
    "print(medium_user['5. 선택한 어플리케이션의 사용시간은 어느 정도인가요?'].value_counts())\n",
    "print(medium_user['9. 자신이 등장하는 영상이나 사진 찍는 것을 좋아하시나요?'].value_counts())\n",
    "print(medium_user['11. 자신이 등장하는 영상이나 사진을 누구에게 공유하시나요?'].value_counts())\n",
    "print(medium_user['12. 공유 경로는 어떻게 하시나요?'].value_counts())"
   ]
  },
  {
   "cell_type": "code",
   "execution_count": 180,
   "id": "9960957d",
   "metadata": {},
   "outputs": [
    {
     "data": {
      "text/html": [
       "<div>\n",
       "<style scoped>\n",
       "    .dataframe tbody tr th:only-of-type {\n",
       "        vertical-align: middle;\n",
       "    }\n",
       "\n",
       "    .dataframe tbody tr th {\n",
       "        vertical-align: top;\n",
       "    }\n",
       "\n",
       "    .dataframe thead th {\n",
       "        text-align: right;\n",
       "    }\n",
       "</style>\n",
       "<table border=\"1\" class=\"dataframe\">\n",
       "  <thead>\n",
       "    <tr style=\"text-align: right;\">\n",
       "      <th></th>\n",
       "      <th>1. 연령대가 어떻게 되시나요?</th>\n",
       "      <th>2. 성별은 어떻게 되시나요?</th>\n",
       "      <th>3. 대학교 재학중이신가요?</th>\n",
       "      <th>4. 주로 사용하는 어플리케이션 종류는 무엇인가요?(복수선택 가능)</th>\n",
       "      <th>5. 선택한 어플리케이션의 사용시간은 어느 정도인가요?</th>\n",
       "      <th>8. 최근 3개월 동안 SNS에 게시물을 몇 회 이상 업로드하셨나요?</th>\n",
       "      <th>9. 자신이 등장하는 영상이나 사진 찍는 것을 좋아하시나요?</th>\n",
       "      <th>11. 자신이 등장하는 영상이나 사진을 누구에게 공유하시나요?</th>\n",
       "      <th>12. 공유 경로는 어떻게 하시나요?</th>\n",
       "      <th>13. 내 모습을 바꿀 수 있다면 어떻게 바꾸고 싶은가요?</th>\n",
       "    </tr>\n",
       "  </thead>\n",
       "  <tbody>\n",
       "    <tr>\n",
       "      <th>count</th>\n",
       "      <td>42</td>\n",
       "      <td>42</td>\n",
       "      <td>42</td>\n",
       "      <td>42</td>\n",
       "      <td>42</td>\n",
       "      <td>42</td>\n",
       "      <td>42</td>\n",
       "      <td>42</td>\n",
       "      <td>42</td>\n",
       "      <td>42</td>\n",
       "    </tr>\n",
       "    <tr>\n",
       "      <th>unique</th>\n",
       "      <td>2</td>\n",
       "      <td>2</td>\n",
       "      <td>2</td>\n",
       "      <td>21</td>\n",
       "      <td>4</td>\n",
       "      <td>1</td>\n",
       "      <td>4</td>\n",
       "      <td>5</td>\n",
       "      <td>2</td>\n",
       "      <td>41</td>\n",
       "    </tr>\n",
       "    <tr>\n",
       "      <th>top</th>\n",
       "      <td>20대</td>\n",
       "      <td>남자</td>\n",
       "      <td>O</td>\n",
       "      <td>영상</td>\n",
       "      <td>일일 1~3시간</td>\n",
       "      <td>없음</td>\n",
       "      <td>보통이다</td>\n",
       "      <td>친한 친구에게만</td>\n",
       "      <td>카카오톡</td>\n",
       "      <td>키크게</td>\n",
       "    </tr>\n",
       "    <tr>\n",
       "      <th>freq</th>\n",
       "      <td>36</td>\n",
       "      <td>32</td>\n",
       "      <td>25</td>\n",
       "      <td>6</td>\n",
       "      <td>22</td>\n",
       "      <td>42</td>\n",
       "      <td>15</td>\n",
       "      <td>22</td>\n",
       "      <td>32</td>\n",
       "      <td>2</td>\n",
       "    </tr>\n",
       "  </tbody>\n",
       "</table>\n",
       "</div>"
      ],
      "text/plain": [
       "       1. 연령대가 어떻게 되시나요? 2. 성별은 어떻게 되시나요? 3. 대학교 재학중이신가요?  \\\n",
       "count                 42               42              42   \n",
       "unique                 2                2               2   \n",
       "top                  20대               남자               O   \n",
       "freq                  36               32              25   \n",
       "\n",
       "       4. 주로 사용하는 어플리케이션 종류는 무엇인가요?(복수선택 가능) 5. 선택한 어플리케이션의 사용시간은 어느 정도인가요?  \\\n",
       "count                                     42                             42   \n",
       "unique                                    21                              4   \n",
       "top                                       영상                       일일 1~3시간   \n",
       "freq                                       6                             22   \n",
       "\n",
       "       8. 최근 3개월 동안 SNS에 게시물을 몇 회 이상 업로드하셨나요?  \\\n",
       "count                                      42   \n",
       "unique                                      1   \n",
       "top                                        없음   \n",
       "freq                                       42   \n",
       "\n",
       "       9. 자신이 등장하는 영상이나 사진 찍는 것을 좋아하시나요? 11. 자신이 등장하는 영상이나 사진을 누구에게 공유하시나요?  \\\n",
       "count                                 42                                 42   \n",
       "unique                                 4                                  5   \n",
       "top                                 보통이다                           친한 친구에게만   \n",
       "freq                                  15                                 22   \n",
       "\n",
       "       12. 공유 경로는 어떻게 하시나요? 13. 내 모습을 바꿀 수 있다면 어떻게 바꾸고 싶은가요?  \n",
       "count                    42                               42  \n",
       "unique                    2                               41  \n",
       "top                    카카오톡                              키크게  \n",
       "freq                     32                                2  "
      ]
     },
     "execution_count": 180,
     "metadata": {},
     "output_type": "execute_result"
    }
   ],
   "source": [
    "light_user.describe()"
   ]
  },
  {
   "cell_type": "code",
   "execution_count": 237,
   "id": "fe4f85d7",
   "metadata": {},
   "outputs": [
    {
     "name": "stdout",
     "output_type": "stream",
     "text": [
      "5. 선택한 어플리케이션의 사용시간은 어느 정도인가요?\n",
      "일일 1~3시간     22\n",
      "일일 3~6시간     14\n",
      "일일 1시간 이내     3\n",
      "일일 6~10시간     3\n",
      "Name: count, dtype: int64\n",
      "9. 자신이 등장하는 영상이나 사진 찍는 것을 좋아하시나요?\n",
      "보통이다         15\n",
      "그렇지 않다       13\n",
      "매우 그렇지 않다     9\n",
      "그렇다           5\n",
      "Name: count, dtype: int64\n",
      "11. 자신이 등장하는 영상이나 사진을 누구에게 공유하시나요?\n",
      "친한 친구에게만    22\n",
      "지인에게만        9\n",
      "나에게만         6\n",
      "가족에게만        3\n",
      "모두에게         2\n",
      "Name: count, dtype: int64\n",
      "12. 공유 경로는 어떻게 하시나요?\n",
      "카카오톡     32\n",
      "인스타그램    10\n",
      "Name: count, dtype: int64\n"
     ]
    }
   ],
   "source": [
    "print(light_user['5. 선택한 어플리케이션의 사용시간은 어느 정도인가요?'].value_counts())\n",
    "print(light_user['9. 자신이 등장하는 영상이나 사진 찍는 것을 좋아하시나요?'].value_counts())\n",
    "print(light_user['11. 자신이 등장하는 영상이나 사진을 누구에게 공유하시나요?'].value_counts())\n",
    "print(light_user['12. 공유 경로는 어떻게 하시나요?'].value_counts())"
   ]
  }
 ],
 "metadata": {
  "kernelspec": {
   "display_name": "Python 3",
   "language": "python",
   "name": "python3"
  },
  "language_info": {
   "codemirror_mode": {
    "name": "ipython",
    "version": 3
   },
   "file_extension": ".py",
   "mimetype": "text/x-python",
   "name": "python",
   "nbconvert_exporter": "python",
   "pygments_lexer": "ipython3",
   "version": "3.12.1"
  }
 },
 "nbformat": 4,
 "nbformat_minor": 5
}
